{
 "cells": [
  {
   "cell_type": "markdown",
   "metadata": {},
   "source": [
    "# Hotpot QA\n",
    "\n",
    "In this task, the LLM must answer a question given a pre-configured context. The answer usually has to be concise, and accuracy is measured by calaulating the overlap (measured by F1) and exact match between the predicted answer and the ground truth answer.\n",
    "\n",
    "Refer to https://hotpotqa.github.io/ for more details on the dataset."
   ]
  },
  {
   "cell_type": "markdown",
   "metadata": {},
   "source": [
    "### Data Preparation"
   ]
  },
  {
   "cell_type": "code",
   "execution_count": 11,
   "metadata": {},
   "outputs": [
    {
     "name": "stdout",
     "output_type": "stream",
     "text": [
      "  % Total    % Received % Xferd  Average Speed   Time    Time     Time  Current\n",
      "                                 Dload  Upload   Total   Spent    Left  Speed\n",
      "100 44.1M  100 44.1M    0     0  8831k      0  0:00:05  0:00:05 --:--:-- 9083k0:00:05 5574k\n",
      "  % Total    % Received % Xferd  Average Speed   Time    Time     Time  Current\n",
      "                                 Dload  Upload   Total   Spent    Left  Speed\n",
      "100 45.2M  100 45.2M    0     0  8746k      0  0:00:05  0:00:05 --:--:-- 9948k260k\n",
      "  % Total    % Received % Xferd  Average Speed   Time    Time     Time  Current\n",
      "                                 Dload  Upload   Total   Spent    Left  Speed\n",
      "100  540M  100  540M    0     0  12.5M      0  0:00:43  0:00:43 --:--:-- 14.8M    0  0:00:44  0:00:21  0:00:23 10.9M\n"
     ]
    }
   ],
   "source": [
    "# Download Hotpot Data\n",
    "!curl -O http://curtis.ml.cmu.edu/datasets/hotpot/hotpot_dev_distractor_v1.json\n",
    "!curl -O http://curtis.ml.cmu.edu/datasets/hotpot/hotpot_dev_fullwiki_v1.json\n",
    "!curl -O http://curtis.ml.cmu.edu/datasets/hotpot/hotpot_train_v1.1.json"
   ]
  },
  {
   "cell_type": "code",
   "execution_count": 3,
   "metadata": {},
   "outputs": [],
   "source": [
    "import json\n",
    "from rich.pretty import pprint\n",
    "\n",
    "with open('./hotpot_dev_distractor_v1.json', 'r') as f:\n",
    "    dev_distractor_data = json.load(f)\n",
    "    # pprint([x[0] for x in dev_distractor_data[0]['context']])\n",
    "    # pprint(dev_distractor_data[0]['context'])\n",
    "\n",
    "\n",
    "with open('./hotpot_dev_fullwiki_v1.json', 'r') as f:\n",
    "    dev_fullwiki_data = json.load(f)\n",
    "    # pprint([x[0] for x in dev_fullwiki_data[0]['context']])\n",
    "    # pprint(dev_fullwiki_data[0]['context'])"
   ]
  },
  {
   "cell_type": "code",
   "execution_count": 2,
   "metadata": {},
   "outputs": [
    {
     "name": "stdout",
     "output_type": "stream",
     "text": [
      "7405 7405\n"
     ]
    }
   ],
   "source": [
    "print(len(dev_fullwiki_data), len(dev_distractor_data))"
   ]
  },
  {
   "cell_type": "markdown",
   "metadata": {},
   "source": [
    "### Llama Stack Initialization"
   ]
  },
  {
   "cell_type": "code",
   "execution_count": 4,
   "metadata": {},
   "outputs": [],
   "source": [
    "from llama_stack_client import LlamaStackClient\n",
    "\n",
    "client = LlamaStackClient(\n",
    "    base_url=\"http://localhost:8321\"\n",
    ")"
   ]
  },
  {
   "cell_type": "markdown",
   "metadata": {},
   "source": [
    "### Vanilla LLM\n",
    "\n",
    "Here, we use the vanilla LLM with no supplied context to answer the question. "
   ]
  },
  {
   "cell_type": "code",
   "execution_count": 5,
   "metadata": {},
   "outputs": [],
   "source": [
    "\"\"\"\n",
    "Utils from https://github.com/hotpotqa/hotpot/blob/master/hotpot_evaluate_v1.py\n",
    "\"\"\"\n",
    "\n",
    "import re\n",
    "import string\n",
    "from typing import Tuple\n",
    "from collections import Counter\n",
    "\n",
    "def normalize_answer(s: str) -> str:\n",
    "    def remove_articles(text: str) -> str:\n",
    "        return re.sub(r\"\\b(a|an|the)\\b\", \" \", text)\n",
    "\n",
    "    def white_space_fix(text: str) -> str:\n",
    "        return \" \".join(text.split())\n",
    "\n",
    "    def remove_punc(text: str) -> str:\n",
    "        exclude = set(string.punctuation)\n",
    "        return \"\".join(ch for ch in text if ch not in exclude)\n",
    "\n",
    "    def lower(text: str) -> str:\n",
    "        return text.lower()\n",
    "\n",
    "    return white_space_fix(remove_articles(remove_punc(lower(s))))\n",
    "\n",
    "\n",
    "def f1_score(prediction: str, ground_truth: str) -> Tuple[float, float, float]:\n",
    "    normalized_prediction = normalize_answer(prediction)\n",
    "    normalized_ground_truth = normalize_answer(ground_truth)\n",
    "\n",
    "    ZERO_METRIC = (0, 0, 0)\n",
    "\n",
    "    if (\n",
    "        normalized_prediction in [\"yes\", \"no\", \"noanswer\"]\n",
    "        and normalized_prediction not in normalized_ground_truth\n",
    "    ):\n",
    "        return ZERO_METRIC\n",
    "    if (\n",
    "        normalized_ground_truth in [\"yes\", \"no\", \"noanswer\"]\n",
    "        and normalized_ground_truth not in normalized_prediction\n",
    "    ):\n",
    "        return ZERO_METRIC\n",
    "\n",
    "    prediction_tokens = normalized_prediction.split()\n",
    "    ground_truth_tokens = normalized_ground_truth.split()\n",
    "    common = Counter(prediction_tokens) & Counter(ground_truth_tokens)\n",
    "    num_same = sum(common.values())\n",
    "    if num_same == 0:\n",
    "        return ZERO_METRIC\n",
    "\n",
    "    precision = 1.0 * num_same / len(prediction_tokens)\n",
    "    recall = 1.0 * num_same / len(ground_truth_tokens)\n",
    "    f1 = (2 * precision * recall) / (precision + recall)\n",
    "    return f1, precision, recall\n",
    "\n",
    "\n",
    "def exact_match_score(prediction: str, ground_truth: str) -> bool:\n",
    "    return normalize_answer(prediction) == normalize_answer(ground_truth)"
   ]
  },
  {
   "cell_type": "code",
   "execution_count": 6,
   "metadata": {},
   "outputs": [],
   "source": [
    "from llama_stack_client.lib.agents.agent import Agent\n",
    "from llama_stack_client.lib.agents.react.agent import ReActAgent\n",
    "from llama_stack_client.lib.agents.client_tool import ClientTool\n",
    "import uuid\n",
    "\n",
    "def evaluate_hotpotqa(\n",
    "        model_id: str = \"\", \n",
    "        agent: Agent = None, \n",
    "        query_template: str = \"{question}\", \n",
    "        show_result: bool = True, \n",
    "        num_examples: int = 5, \n",
    "        retrieval_tool: ClientTool = None):\n",
    "\n",
    "    scores = {\"exact_match\": 0.0, \"f1\": 0.0}\n",
    "    for query in dev_distractor_data[:num_examples]:\n",
    "        expected_answer = query['answer']\n",
    "\n",
    "        if model_id:\n",
    "            if retrieval_tool is not None:\n",
    "                context = retrieval_tool.run_impl(query['question'])\n",
    "                question = query_template.format(question=query['question'], context=context)\n",
    "                response = client.inference.chat_completion(\n",
    "                    model_id=model_id,\n",
    "                    messages=[\n",
    "                        {\"role\": \"user\", \"content\": question}\n",
    "                    ],\n",
    "                    stream=False\n",
    "                )\n",
    "            else:\n",
    "                question = query_template.format(question=query['question'])\n",
    "                response = client.inference.chat_completion(\n",
    "                    model_id=model_id,\n",
    "                    messages=[\n",
    "                        {\"role\": \"user\", \"content\": question}\n",
    "                    ],\n",
    "                    stream=False\n",
    "                )\n",
    "            \n",
    "            generated_answer = response.completion_message.content\n",
    "        elif agent is not None:\n",
    "            question = query_template.format(question=query['question'])\n",
    "            session_id = agent.create_session(f\"test-session-{uuid.uuid4().hex}\")\n",
    "            response = agent.create_turn(\n",
    "                messages=[\n",
    "                    {\"role\": \"user\", \"content\": question}\n",
    "                ],\n",
    "                session_id=session_id,\n",
    "                stream=False\n",
    "            )\n",
    "            if isinstance(agent, ReActAgent):\n",
    "                answer_match = re.search(r'\"answer\":\\s*\"([^\"]*)\"', response.output_message.content)\n",
    "                generated_answer = answer_match.group(1) if answer_match else \"No answer found\"\n",
    "            else:\n",
    "                generated_answer = response.output_message.content\n",
    "        else:\n",
    "            raise ValueError(\"No model_id or agent provided\")\n",
    "\n",
    "        f1, precision, recall = f1_score(generated_answer, expected_answer)\n",
    "        exact_match = exact_match_score(generated_answer, expected_answer)\n",
    "        \n",
    "        if show_result:\n",
    "            print(\"Question: \", question)\n",
    "            print(\"Generated Answer: \", generated_answer)\n",
    "            print(\"Expected Answer: \", expected_answer)\n",
    "            print(f\"F1: {f1}, Precision: {precision}, Recall: {recall}, Exact Match: {exact_match}\")\n",
    "            print(\"-\"*100)\n",
    "        \n",
    "        scores[\"exact_match\"] += exact_match\n",
    "        scores[\"f1\"] += f1\n",
    "    \n",
    "    for score in scores:\n",
    "        scores[score] /= num_examples\n",
    "    \n",
    "    print(\"Scores: \", scores)"
   ]
  },
  {
   "cell_type": "code",
   "execution_count": 7,
   "metadata": {},
   "outputs": [
    {
     "name": "stdout",
     "output_type": "stream",
     "text": [
      "Question:  Were Scott Derrickson and Ed Wood of the same nationality? Give a short factoid answer (as few words as possible).\n",
      "Generated Answer:  No, they were not.\n",
      "Expected Answer:  yes\n",
      "F1: 0, Precision: 0, Recall: 0, Exact Match: False\n",
      "----------------------------------------------------------------------------------------------------\n",
      "Question:  What government position was held by the woman who portrayed Corliss Archer in the film Kiss and Tell? Give a short factoid answer (as few words as possible).\n",
      "Generated Answer:  Loretta Young was a U.S. Delegate to the United Nations.\n",
      "Expected Answer:  Chief of Protocol\n",
      "F1: 0, Precision: 0, Recall: 0, Exact Match: False\n",
      "----------------------------------------------------------------------------------------------------\n",
      "Question:  What science fantasy young adult series, told in first person, has a set of companion books narrating the stories of enslaved worlds and alien species? Give a short factoid answer (as few words as possible).\n",
      "Generated Answer:  The Illuminae Files series by Amie Kaufman and Jay Kristoff.\n",
      "Expected Answer:  Animorphs\n",
      "F1: 0, Precision: 0, Recall: 0, Exact Match: False\n",
      "----------------------------------------------------------------------------------------------------\n",
      "Question:  Are the Laleli Mosque and Esma Sultan Mansion located in the same neighborhood? Give a short factoid answer (as few words as possible).\n",
      "Generated Answer:  Yes, in Istanbul's Laleli neighborhood.\n",
      "Expected Answer:  no\n",
      "F1: 0, Precision: 0, Recall: 0, Exact Match: False\n",
      "----------------------------------------------------------------------------------------------------\n",
      "Question:  The director of the romantic comedy \"Big Stone Gap\" is based in what New York city? Give a short factoid answer (as few words as possible).\n",
      "Generated Answer:  The director of \"Big Stone Gap\" is Thomas Beatty.\n",
      "Expected Answer:  Greenwich Village, New York City\n",
      "F1: 0, Precision: 0, Recall: 0, Exact Match: False\n",
      "----------------------------------------------------------------------------------------------------\n",
      "Scores:  {'exact_match': 0.0, 'f1': 0.0}\n"
     ]
    }
   ],
   "source": [
    "model_id = \"meta-llama/Llama-3.1-8B-Instruct\"\n",
    "query_template = \"{question} Give a short factoid answer (as few words as possible).\"\n",
    "show_result = True\n",
    "\n",
    "evaluate_hotpotqa(model_id=model_id, query_template=query_template, show_result=show_result, num_examples=5)"
   ]
  },
  {
   "cell_type": "markdown",
   "metadata": {},
   "source": [
    "### (+ RAG) ReAct\n",
    "\n",
    "- The agent will have access to a retrieval tool that can provide context for the question. \n",
    "\n",
    "- Note EM and F1 improved compared with using vanilla LLM. "
   ]
  },
  {
   "cell_type": "code",
   "execution_count": 40,
   "metadata": {},
   "outputs": [],
   "source": [
    "from llama_stack_client.lib.agents.client_tool import ClientTool\n",
    "from llama_stack_client.types.tool_def_param import Parameter\n",
    "from typing import List, Dict\n",
    "\n",
    "class HotpotQAMockRetrievalTool(ClientTool):\n",
    "    def __init__(self, dataset: List[Dict]):\n",
    "        super().__init__()\n",
    "        self.dataset = dataset\n",
    "        self._queries2context = {x['question']: x['context'] for x in self.dataset}\n",
    "\n",
    "    def get_name(self) -> str:\n",
    "        return \"retrieve_context\"\n",
    "    \n",
    "    def get_description(self) -> str:\n",
    "        return \"Provides context about the query to better answer the question.\"\n",
    "    \n",
    "    def get_params_definition(self) -> Dict[str, Parameter]:\n",
    "        return {\n",
    "            \"query\": Parameter(\n",
    "                name=\"query\",\n",
    "                parameter_type=\"str\",\n",
    "                description=\"The query to retrieve context for.\",\n",
    "                required=True,\n",
    "            )\n",
    "        }\n",
    "\n",
    "    def run_impl(self, query: str) -> str:\n",
    "        print(\"Running Mock Retrieval Tool on query: \", query)\n",
    "        contexts = str(self._queries2context[query])\n",
    "        return contexts"
   ]
  },
  {
   "cell_type": "code",
   "execution_count": 41,
   "metadata": {},
   "outputs": [
    {
     "name": "stdout",
     "output_type": "stream",
     "text": [
      "Error parsing action: 1 validation error for ReActOutput\n",
      "  Invalid JSON: trailing characters at line 9 column 1 [type=json_invalid, input_value='{\\n    \"thought\": \"I wil...n    \"answer\": \"Yes\"\\n}', input_type=str]\n",
      "    For further information visit https://errors.pydantic.dev/2.10/v/json_invalid\n",
      "Question:  Were Scott Derrickson and Ed Wood of the same nationality? Give a short factoid answer (as few words as possible).\n",
      "Generated Answer:  Yes\n",
      "Expected Answer:  yes\n",
      "F1: 1.0, Precision: 1.0, Recall: 1.0, Exact Match: True\n",
      "----------------------------------------------------------------------------------------------------\n",
      "Running Mock Retrieval Tool on query:  Corliss Archer film Kiss and Tell government position\n",
      "Running Mock Retrieval Tool on query:  Corliss Archer actress government position\n",
      "Running Mock Retrieval Tool on query:  Corliss Archer film actress government position\n",
      "Running Mock Retrieval Tool on query:  actress who played Corliss Archer in film Kiss and Tell government position\n",
      "Question:  What government position was held by the woman who portrayed Corliss Archer in the film Kiss and Tell? Give a short factoid answer (as few words as possible).\n",
      "Generated Answer:  I was unable to find the answer using the available tools.\n",
      "Expected Answer:  Chief of Protocol\n",
      "F1: 0, Precision: 0, Recall: 0, Exact Match: False\n",
      "----------------------------------------------------------------------------------------------------\n",
      "Running Mock Retrieval Tool on query:  science fantasy young adult series with first person narration and companion books on enslaved worlds and alien species\n",
      "Question:  What science fantasy young adult series, told in first person, has a set of companion books narrating the stories of enslaved worlds and alien species? Give a short factoid answer (as few words as possible).\n",
      "Generated Answer:  I'm sorry, but I couldn't find any information about the science fantasy young adult series you're looking for.\n",
      "Expected Answer:  Animorphs\n",
      "F1: 0, Precision: 0, Recall: 0, Exact Match: False\n",
      "----------------------------------------------------------------------------------------------------\n",
      "Error parsing action: 1 validation error for ReActOutput\n",
      "  Invalid JSON: trailing characters at line 9 column 1 [type=json_invalid, input_value='{\\n    \"thought\": \"I wil...n    \"answer\": \"yes\"\\n}', input_type=str]\n",
      "    For further information visit https://errors.pydantic.dev/2.10/v/json_invalid\n",
      "Question:  Are the Laleli Mosque and Esma Sultan Mansion located in the same neighborhood? Give a short factoid answer (as few words as possible).\n",
      "Generated Answer:  yes\n",
      "Expected Answer:  no\n",
      "F1: 0, Precision: 0, Recall: 0, Exact Match: False\n",
      "----------------------------------------------------------------------------------------------------\n",
      "Error parsing action: 1 validation error for ReActOutput\n",
      "  Invalid JSON: trailing characters at line 9 column 1 [type=json_invalid, input_value='{\\n    \"thought\": \"I wil...er\": \"New York City\"\\n}', input_type=str]\n",
      "    For further information visit https://errors.pydantic.dev/2.10/v/json_invalid\n",
      "Question:  The director of the romantic comedy \"Big Stone Gap\" is based in what New York city? Give a short factoid answer (as few words as possible).\n",
      "Generated Answer:  New York City\n",
      "Expected Answer:  Greenwich Village, New York City\n",
      "F1: 0.7499999999999999, Precision: 1.0, Recall: 0.6, Exact Match: False\n",
      "----------------------------------------------------------------------------------------------------\n",
      "Scores:  {'exact_match': 0.2, 'f1': 0.35}\n"
     ]
    }
   ],
   "source": [
    "from llama_stack_client.lib.agents.react.agent import ReActAgent\n",
    "\n",
    "retrieval_tool = HotpotQAMockRetrievalTool(dev_distractor_data)\n",
    "\n",
    "agent = ReActAgent(\n",
    "    client=client,\n",
    "    model=model_id,\n",
    "    client_tools=[retrieval_tool],\n",
    ")\n",
    "\n",
    "evaluate_hotpotqa(agent=agent, query_template=query_template, show_result=show_result, num_examples=5)"
   ]
  },
  {
   "cell_type": "markdown",
   "metadata": {},
   "source": [
    "### (+RAG) Force Retrieval\n",
    "\n",
    "- Notice that the retrieval tool is sometimes not used, and query is not exact match into the mock retrieval tool. \n",
    "- Since we are working with a mock retrieval tool that is not very reliable and is only able to retrieve the context for the question, we can test on an alternative approach where we force retrieval tool to get the correct context. \n",
    "\n",
    "- Note F1 improved from 0.35 to 0.46 compared with using ReACT. "
   ]
  },
  {
   "cell_type": "code",
   "execution_count": 48,
   "metadata": {},
   "outputs": [
    {
     "name": "stdout",
     "output_type": "stream",
     "text": [
      "Running Mock Retrieval Tool on query:  Were Scott Derrickson and Ed Wood of the same nationality?\n",
      "Question:  Were Scott Derrickson and Ed Wood of the same nationality? Give a short factoid answer (as few words as possible). Use the following context to answer the question: [['Ed Wood (film)', ['Ed Wood is a 1994 American biographical period comedy-drama film directed and produced by Tim Burton, and starring Johnny Depp as cult filmmaker Ed Wood.', \" The film concerns the period in Wood's life when he made his best-known films as well as his relationship with actor Bela Lugosi, played by Martin Landau.\", ' Sarah Jessica Parker, Patricia Arquette, Jeffrey Jones, Lisa Marie, and Bill Murray are among the supporting cast.']], ['Scott Derrickson', ['Scott Derrickson (born July 16, 1966) is an American director, screenwriter and producer.', ' He lives in Los Angeles, California.', ' He is best known for directing horror films such as \"Sinister\", \"The Exorcism of Emily Rose\", and \"Deliver Us From Evil\", as well as the 2016 Marvel Cinematic Universe installment, \"Doctor Strange.\"']], ['Woodson, Arkansas', ['Woodson is a census-designated place (CDP) in Pulaski County, Arkansas, in the United States.', ' Its population was 403 at the 2010 census.', ' It is part of the Little Rock–North Little Rock–Conway Metropolitan Statistical Area.', ' Woodson and its accompanying Woodson Lake and Wood Hollow are the namesake for Ed Wood Sr., a prominent plantation owner, trader, and businessman at the turn of the 20th century.', ' Woodson is adjacent to the Wood Plantation, the largest of the plantations own by Ed Wood Sr.']], ['Tyler Bates', ['Tyler Bates (born June 5, 1965) is an American musician, music producer, and composer for films, television, and video games.', ' Much of his work is in the action and horror film genres, with films like \"Dawn of the Dead, 300, Sucker Punch,\" and \"John Wick.\"', ' He has collaborated with directors like Zack Snyder, Rob Zombie, Neil Marshall, William Friedkin, Scott Derrickson, and James Gunn.', ' With Gunn, he has scored every one of the director\\'s films; including \"Guardians of the Galaxy\", which became one of the highest grossing domestic movies of 2014, and its 2017 sequel.', ' In addition, he is also the lead guitarist of the American rock band Marilyn Manson, and produced its albums \"The Pale Emperor\" and \"Heaven Upside Down\".']], ['Ed Wood', ['Edward Davis Wood Jr. (October 10, 1924 – December 10, 1978) was an American filmmaker, actor, writer, producer, and director.']], ['Deliver Us from Evil (2014 film)', ['Deliver Us from Evil is a 2014 American supernatural horror film directed by Scott Derrickson and produced by Jerry Bruckheimer.', ' The film is officially based on a 2001 non-fiction book entitled \"Beware the Night\" by Ralph Sarchie and Lisa Collier Cool, and its marketing campaign highlighted that it was \"inspired by actual accounts\".', ' The film stars Eric Bana, Édgar Ramírez, Sean Harris, Olivia Munn, and Joel McHale in the main roles and was released on July 2, 2014.']], ['Adam Collis', ['Adam Collis is an American filmmaker and actor.', ' He attended the Duke University from 1986 to 1990 and the University of California, Los Angeles from 2007 to 2010.', ' He also studied cinema at the University of Southern California from 1991 to 1997.', ' Collis first work was the assistant director for the Scott Derrickson\\'s short \"Love in the Ruins\" (1995).', ' In 1998, he played \"Crankshaft\" in Eric Koyanagi\\'s \"Hundred Percent\".']], ['Sinister (film)', ['Sinister is a 2012 supernatural horror film directed by Scott Derrickson and written by Derrickson and C. Robert Cargill.', ' It stars Ethan Hawke as fictional true-crime writer Ellison Oswalt who discovers a box of home movies in his attic that puts his family in danger.']], ['Conrad Brooks', ['Conrad Brooks (born Conrad Biedrzycki on January 3, 1931 in Baltimore, Maryland) is an American actor.', ' He moved to Hollywood, California in 1948 to pursue a career in acting.', ' He got his start in movies appearing in Ed Wood films such as \"Plan 9 from Outer Space\", \"Glen or Glenda\", and \"Jail Bait.\"', ' He took a break from acting during the 1960s and 1970s but due to the ongoing interest in the films of Ed Wood, he reemerged in the 1980s and has become a prolific actor.', ' He also has since gone on to write, produce and direct several films.']], ['Doctor Strange (2016 film)', ['Doctor Strange is a 2016 American superhero film based on the Marvel Comics character of the same name, produced by Marvel Studios and distributed by Walt Disney Studios Motion Pictures.', ' It is the fourteenth film of the Marvel Cinematic Universe (MCU).', ' The film was directed by Scott Derrickson, who wrote it with Jon Spaihts and C. Robert Cargill, and stars Benedict Cumberbatch as Stephen Strange, along with Chiwetel Ejiofor, Rachel McAdams, Benedict Wong, Michael Stuhlbarg, Benjamin Bratt, Scott Adkins, Mads Mikkelsen, and Tilda Swinton.', ' In \"Doctor Strange\", surgeon Strange learns the mystic arts after a career-ending car accident.']]]\n",
      "Generated Answer:  Yes.\n",
      "Expected Answer:  yes\n",
      "F1: 1.0, Precision: 1.0, Recall: 1.0, Exact Match: True\n",
      "----------------------------------------------------------------------------------------------------\n",
      "Running Mock Retrieval Tool on query:  What government position was held by the woman who portrayed Corliss Archer in the film Kiss and Tell?\n",
      "Question:  What government position was held by the woman who portrayed Corliss Archer in the film Kiss and Tell? Give a short factoid answer (as few words as possible). Use the following context to answer the question: [['Meet Corliss Archer', [\"Meet Corliss Archer, a program from radio's Golden Age, ran from January 7, 1943 to September 30, 1956.\", ' Although it was CBS\\'s answer to NBC\\'s popular \"A Date with Judy\", it was also broadcast by NBC in 1948 as a summer replacement for \"The Bob Hope Show\".', ' From October 3, 1952 to June 26, 1953, it aired on ABC, finally returning to CBS.', \" Despite the program's long run, fewer than 24 episodes are known to exist.\"]], ['Shirley Temple', [\"Shirley Temple Black (April 23, 1928 – February 10, 2014) was an American actress, singer, dancer, businesswoman, and diplomat who was Hollywood's number one box-office draw as a child actress from 1935 to 1938.\", ' As an adult, she was named United States ambassador to Ghana and to Czechoslovakia and also served as Chief of Protocol of the United States.']], ['Janet Waldo', ['Janet Marie Waldo (February 4, 1920 – June 12, 2016) was an American radio and voice actress.', ' She is best known in animation for voicing Judy Jetson, Nancy in \"Shazzan\", Penelope Pitstop, and Josie in \"Josie and the Pussycats\", and on radio as the title character in \"Meet Corliss Archer\".']], ['Meet Corliss Archer (TV series)', ['Meet Corliss Archer is an American television sitcom that aired on CBS (July 13, 1951 - August 10, 1951) and in syndication via the Ziv Company from April to December 1954.', ' The program was an adaptation of the radio series of the same name, which was based on a series of short stories by F. Hugh Herbert.']], ['Lord High Treasurer', ['The post of Lord High Treasurer or Lord Treasurer was an English government position and has been a British government position since the Acts of Union of 1707.', ' A holder of the post would be the third-highest-ranked Great Officer of State, below the Lord High Steward and the Lord High Chancellor.']], ['A Kiss for Corliss', ['A Kiss for Corliss is a 1949 American comedy film directed by Richard Wallace and written by Howard Dimsdale.', ' It stars Shirley Temple in her final starring role as well as her final film appearance.', ' It is a sequel to the 1945 film \"Kiss and Tell\".', ' \"A Kiss for Corliss\" was retitled \"Almost a Bride\" before release and this title appears in the title sequence.', ' The film was released on November 25, 1949, by United Artists.']], ['Kiss and Tell (1945 film)', ['Kiss and Tell is a 1945 American comedy film starring then 17-year-old Shirley Temple as Corliss Archer.', ' In the film, two teenage girls cause their respective parents much concern when they start to become interested in boys.', \" The parents' bickering about which girl is the worse influence causes more problems than it solves.\"]], ['Secretary of State for Constitutional Affairs', ['The office of Secretary of State for Constitutional Affairs was a British Government position, created in 2003.', \" Certain functions of the Lord Chancellor which related to the Lord Chancellor's Department were transferred to the Secretary of State.\", ' At a later date further functions were also transferred to the Secretary of State for Constitutional Affairs from the First Secretary of State, a position within the government held by the Deputy Prime Minister.']], ['Village accountant', ['The Village Accountant (variously known as \"Patwari\", \"Talati\", \"Patel\", \"Karnam\", \"Adhikari\", \"Shanbogaru\",\"Patnaik\" etc.) is an administrative government position found in rural parts of the Indian sub-continent.', ' The office and the officeholder are called the \"patwari\" in Telangana, Bengal, North India and in Pakistan while in Sindh it is called \"tapedar\".', ' The position is known as the \"karnam\" in Andhra Pradesh, \"patnaik\" in Orissa or \"adhikari\" in Tamil Nadu, while it is commonly known as the \"talati\" in Karnataka, Gujarat and Maharashtra.', ' The position was known as the \"kulkarni\" in Northern Karnataka and Maharashtra.', ' The position was known as the \"shanbogaru\" in South Karnataka.']], ['Charles Craft', ['Charles Craft (May 9, 1902 – September 19, 1968) was an English-born American film and television editor.', ' Born in the county of Hampshire in England on May 9, 1902, Craft would enter the film industry in Hollywood in 1927.', ' The first film he edited was the Universal Pictures silent film, \"Painting the Town\".', ' Over the next 25 years, Craft would edit 90 feature-length films.', ' In the early 1950s he would switch his focus to the small screen, his first show being \"Racket Squad\", from 1951–53, for which he was the main editor, editing 93 of the 98 episodes.', ' He would work on several other series during the 1950s, including \"Meet Corliss Archer\" (1954), \"Science Fiction Theatre\" (1955–56), and \"Highway Patrol\" (1955–57).', ' In the late 1950s and early 1960s he was one of the main editors on \"Sea Hunt\", starring Lloyd Bridges, editing over half of the episodes.', ' His final film work would be editing \"Flipper\\'s New Adventure\" (1964, the sequel to 1963\\'s \"Flipper\".', ' When the film was made into a television series, Craft would begin the editing duties on that show, editing the first 28 episodes before he retired in 1966.', ' Craft died on September 19, 1968 in Los Angeles, California.']]]\n",
      "Generated Answer:  Janet Waldo, the woman who portrayed Corliss Archer in the film \"Kiss and Tell\", held the position of Secretary of State for Constitutional Affairs.\n",
      "Expected Answer:  Chief of Protocol\n",
      "F1: 0.08333333333333333, Precision: 0.047619047619047616, Recall: 0.3333333333333333, Exact Match: False\n",
      "----------------------------------------------------------------------------------------------------\n",
      "Running Mock Retrieval Tool on query:  What science fantasy young adult series, told in first person, has a set of companion books narrating the stories of enslaved worlds and alien species?\n",
      "Question:  What science fantasy young adult series, told in first person, has a set of companion books narrating the stories of enslaved worlds and alien species? Give a short factoid answer (as few words as possible). Use the following context to answer the question: [['Andre Norton Award', ['The Andre Norton Award for Young Adult Science Fiction and Fantasy is an annual award presented by the Science Fiction and Fantasy Writers of America (SFWA) to the author of the best young adult or middle grade science fiction or fantasy book published in the United States in the preceding year.', ' It is named to honor prolific science fiction and fantasy author Andre Norton (1912–2005), and it was established by then SFWA president Catherine Asaro and the SFWA Young Adult Fiction committee and announced on February 20, 2005.', ' Any published young adult or middle grade science fiction or fantasy novel is eligible for the prize, including graphic novels.', ' There is no limit on word count.', ' The award is presented along with the Nebula Awards and follows the same rules for nominations and voting; as the awards are separate, works may be simultaneously nominated for both the Andre Norton award and a Nebula Award.']], ['Victoria Hanley', ['Victoria Hanley is an American young adult fantasy novelist.', ' Her first three books, \"The Seer And The Sword\", \"The Healer\\'s Keep\" and \"The Light Of The Oracle\" are companion books to one another.', ' Her newest book (released March 2012) is the sequel of a series, called \"Indigo Magic\", published by Egmont USA.', ' She\\'s also published two non-fiction books through Cotton Wood Press; called \"Seize the Story: A Handbook For Teens Who Like To Write\", and \"Wild Ink: A Grownups Guide To Writing Fiction For Teens\".']], ['The Hork-Bajir Chronicles', ['The Hork-Bajir Chronicles is the second companion book to the \"Animorphs\" series, written by K. A. Applegate.', ' With respect to continuity within the series, it takes place before book #23, \"The Pretender\", although the events told in the story occur between the time of \"The Ellimist Chronicles\" and \"The Andalite Chronicles\".', ' The book is introduced by Tobias, who flies to the valley of the free Hork-Bajir, where Jara Hamee tells him the story of how the Yeerks enslaved the Hork-Bajir, and how Aldrea, an Andalite, and her companion, Dak Hamee, a Hork-Bajir, tried to save their world from the invasion.', ' Jara Hamee\\'s story is narrated from the points of view of Aldrea, Dak Hamee, and Esplin 9466, alternating in similar fashion to the \"Megamorphs\" books.']], ['Shadowshaper', ['Shadowshaper is a 2015 American urban fantasy young adult novel written by Daniel José Older.', ' It follows Sierra Santiago, an Afro-Boricua teenager living in Brooklyn.', ' She is the granddaughter of a \"shadowshaper\", or a person who infuses art with ancestral spirits.', ' As forces of gentrification invade their community and a mysterious being who appropriates their magic begins to hunt the aging shadowshapers, Sierra must learn about her artistic and spiritual heritage to foil the killer.']], ['Left Behind: The Kids', ['\"Left Behind: The Kids (stylized as LEFT BEHIND >THE KIDS<)\" is a series written by Jerry B. Jenkins, Tim LaHaye, and Chris Fabry.', ' The series consists of 40 short novels aimed primarily at the young adult market based on the adult series Left Behind also written by Jerry B. Jenkins.', ' It follows a core group of teenagers as they experience the rapture and tribulation, based on scriptures found in the Bible, and background plots introduced in the adult novels.', ' Like the adult series, the books were published by Tyndale House Publishing, and released over the 7 year period of 1997-2004.', ' The series has sold over 11 million copies worldwide.']], ['List of Square Enix companion books', ['Dozens of Square Enix companion books have been produced since 1998, when video game developer Square began to produce books that focused on artwork, developer interviews, and background information on the fictional worlds and characters in its games rather than on gameplay details.', ' The first series of these books was the \"Perfect Works\" series, written and published by Square subsidiary DigiCube.', ' They produced three books between 1998 and 1999 before the line was stopped in favor of the \"Ultimania\" (アルティマニア , Arutimania ) series, a portmanteau of ultimate and mania.', ' This series of books is written by Studio BentStuff, which had previously written game guides for Square for \"Final Fantasy VII\".', ' They were published by DigiCube until the company was dissolved in 2003.', ' Square merged with video game publisher Enix on April 1, 2003 to form Square Enix, which resumed publication of the companion books.']], ['The Divide trilogy', ['The Divide trilogy is a fantasy young adult novel trilogy by Elizabeth Kay, which takes place in an alternate universe.', ' The three books are \"The Divide\" (2002), \"Back to The Divide\" (2005), and \"Jinx on The Divide\" (2006).', ' The first novel was originally published by the small press publisher Chicken House (now a division of Scholastic), with subsequent volumes published by Scholastic, which also reprinted the first novel.', ' The books have been translated into French, German, Spanish, Finnish, Chinese, Japanese, Portuguese, Italian, Romanian and Dutch.', ' Interior illustrations are by Ted Dewan.']], ['Science Fantasy (magazine)', ['Science Fantasy, which also appeared under the titles Impulse and SF Impulse, was a British fantasy and science fiction magazine, launched in 1950 by Nova Publications as a companion to Nova\\'s \"New Worlds\".', ' Walter Gillings was editor for the first two issues, and was then replaced by John Carnell, the editor of \"New Worlds\", as a cost-saving measure.', ' Carnell edited both magazines until Nova went out of business in early 1964.', ' The titles were acquired by Roberts & Vinter, who hired Kyril Bonfiglioli to edit \"Science Fantasy\"; Bonfiglioli changed the title to \"Impulse\" in early 1966, but the new title led to confusion with the distributors and sales fell, though the magazine remained profitable.', ' The title was changed again to \"SF Impulse\" for the last few issues.', ' \"Science Fantasy\" ceased publication the following year, when Roberts & Vinter came under financial pressure after their printer went bankrupt.']], ['Animorphs', ['Animorphs is a science fantasy series of young adult books written by Katherine Applegate and her husband Michael Grant, writing together under the name K. A. Applegate, and published by Scholastic.', ' It is told in first person, with all six main characters taking turns narrating the books through their own perspectives.', ' Horror, war, dehumanization, sanity, morality, innocence, leadership, freedom and growing up are the core themes of the series.']], ['Etiquette &amp; Espionage', ['Etiquette & Espionage is a young adult steampunk novel by Gail Carriger.', ' It is her first young adult novel, and is set in the same universe as her bestselling Parasol Protectorate adult series.']]]\n",
      "Generated Answer:  The Animorphs series.\n",
      "Expected Answer:  Animorphs\n",
      "F1: 0.6666666666666666, Precision: 0.5, Recall: 1.0, Exact Match: False\n",
      "----------------------------------------------------------------------------------------------------\n",
      "Running Mock Retrieval Tool on query:  Are the Laleli Mosque and Esma Sultan Mansion located in the same neighborhood?\n",
      "Question:  Are the Laleli Mosque and Esma Sultan Mansion located in the same neighborhood? Give a short factoid answer (as few words as possible). Use the following context to answer the question: [['Esma Sultan (daughter of Abdülaziz)', ['Esma Sultan (21 March 1873 – 7 May 1899) was an Ottoman princess, the daughter of Sultan Abdülaziz and his wife Gevheri Kadın, herself the daughter of Salih Bey Svatnba.', ' She was the half-sister of Abdülmecid II, the last Caliph of the Muslim world.']], ['Djamaâ el Kebir', ['The Great Mosque of Algiers (Arabic: الجامع الكبير\\u200e \\u200e , \"Jemaa Kebir\") or “Djama’a al-Kebir” (meaning Great Mosque) is a mosque in Algiers, Algeria, located very close to Algiers Harbor.', ' An inscription on the minbar (منبر) or the pulpit testifies to fact that the mosque was built in 1097.', \" It is also known by several other names such as Grand Mosque d'Alger, Djamaa al-Kebir, El Kebir Mosque and Jami Masjid.\", ' It is one of the few remaining examples of Almoravid architecture.', ' It is the oldest mosque in Algiers and is said to be the oldest mosque in Algeria after Sidi Okba Mosque.', ' It was built under sultan Ali ibn Yusuf.', ' Its minaret dates from 1332 (1324 in some sources) and was built by the Ziyyanid Sultan of Tlemcen.', ' The gallery at the outside of the mosque was built in 1840.', ' Its construction was a consequence of a complete reconstruction of the street by the French.']], ['Küçük Hüseyin Pasha', ['Küçük Hüseyin Pasha (1757 – 7 December 1803), also known as Tayazade Damat Küçük Hüseyin Pasha, was an Ottoman statesman and admiral who was Kapudan Pasha (Grand Admiral of the Ottoman Navy) from 11 March 1792 to 7 December 1803.', ' He was a \"damat\" (\"bridegroom\") to the Ottoman dynasty after he married an Ottoman princess, Esma Sultan.']], ['Esma Sultan (daughter of Abdul Hamid I)', ['Esma Sultan (17 July 1778 – 4 June 1848) was an Ottoman princess, daughter of Sultan Abdul Hamid I, sister of Sultan Mustafa IV and Sultan Mahmud II.', ' She was the adoptive mother of Bezmiâlem Sultan and Rahime Perestu Sultan.']], ['Sultan Ahmed Mosque', ['The Sultan Ahmed Mosque or Sultan Ahmet Mosque (Turkish: \"Sultan Ahmet Camii\" ) is a historic mosque located in Istanbul, Turkey.', \" A popular tourist site, the Sultan Ahmed Mosque continues to function as a mosque today; men still kneel in prayer on the mosque's lush red carpet after the call to prayer.\", ' The Blue Mosque, as it is popularly known, was constructed between 1609 and 1616 during the rule of Ahmed I.', \" Its Külliye contains Ahmed's tomb, a madrasah and a hospice.\", ' Hand-painted blue tiles adorn the mosque’s interior walls, and at night the mosque is bathed in blue as lights frame the mosque’s five main domes, six minarets and eight secondary domes.', ' It sits next to the Hagia Sophia, another popular tourist site.']], ['Laleli Mosque', ['The Laleli Mosque (Turkish: \"Laleli Camii, or Tulip Mosque\" ) is an 18th-century Ottoman imperial mosque located in Laleli, Fatih, Istanbul, Turkey.']], ['Esma Sultan Mansion', ['The Esma Sultan Mansion (Turkish: \"Esma Sultan Yalısı\" ), a historical yalı (English: waterside mansion ) located at Bosphorus in Ortaköy neighborhood of Istanbul, Turkey and named after its original owner Esma Sultan, is used today as a cultural center after being redeveloped.']], ['Esma Sultan', ['Esma Sultan is the name of three daughters of three Ottoman Sultans:']], ['Gevheri Kadın', ['Gevheri Kadın (8 July 1856\\xa0– 6 September 1884) was the fifth wife of 32nd Ottoman Sultan Abdülaziz.', ' She was the mother of Şehzade Mehmed Seyfeddin and Esma Sultan of the Ottoman Empire.']], ['Esma Sultan (daughter of Ahmed III)', ['Esma Sultan (14 March 1726 – 13 August 1788) was an Ottoman princess, daughter of Sultan Ahmed III and his consort Zeynep Kadın.', ' She was the half-sister of Sultan Mustafa III and Abdul Hamid I.']]]\n",
      "Generated Answer:  Yes, they are located in the same neighborhood.\n",
      "Expected Answer:  no\n",
      "F1: 0, Precision: 0, Recall: 0, Exact Match: False\n",
      "----------------------------------------------------------------------------------------------------\n",
      "Running Mock Retrieval Tool on query:  The director of the romantic comedy \"Big Stone Gap\" is based in what New York city?\n",
      "Question:  The director of the romantic comedy \"Big Stone Gap\" is based in what New York city? Give a short factoid answer (as few words as possible). Use the following context to answer the question: [['Just Another Romantic Wrestling Comedy', ['Just Another Romantic Wrestling Comedy is a 2006 film starring April Hunter and Joanie Laurer.', ' This Romantic comedy film was premiered at New Jersey and New York City on December 1, 2006 and was released on DVD in the United States and the United Kingdom on April 17, 2007.', ' After the film\\'s DVD release \"Just Another Romantic Wrestling Comedy\" won an \"Honorable Mention\" award at the New Jersey International Festival awards.', ' The release is being handled by \"Victory Multimedia\".']], ['Kingston Morning', [\"Kingston Morning is Dave Eggar's 4th solo release recorded in Brooklyn, New York; Kingston, Jamaica; and Big Stone Gap, Virginia; and released by Domo Records.\", ' \"Itsbynne Reel\" was nominated at the 53rd Grammy Awards for \"Best Instrumental Arrangement\".']], ['Nola (film)', ['Nola is a 2003 American romantic comedy film written and directed by Alan Hruska.', ' It depicts the struggle of a young woman trying to survive in New York City while looking for her birth father.', ' It premiered in New York City on July 23, 2004.']], ['Adriana Trigiani', ['Adriana Trigiani is an Italian American best-selling author of sixteen books, television writer, film director, and entrepreneur based in Greenwich Village, New York City.', ' Trigiani has published a novel a year since 2000.']], ['Great Eastern Conventions', ['Great Eastern Conventions, Inc. was an entertainment company which produced comic book conventions, most actively during the years 1987-1996.', \" In New York City, the Great Eastern shows filled the gap between the mid-1980s demise of the annual Comic Art Convention and Creation Conventions, and the establishment of promoter Michael Carbonaro's annual Big Apple Comic Con in 1996.\", ' From 1993–1995, Great Eastern hosted two New York City shows annually at the Jacob K. Javits Convention Center.', ' Great Eastern also ran shows in New Jersey, Pennsylvania, Massachusetts, Oregon, Minnesota, and Texas.']], ['New York Society of Model Engineers', ['The New York Society of Model Engineers (NYSME) was originally incorporated in 1926 in New York City.', ' There are published records that show the Society existed as early as 1905.', ' In its early years, the organization moved to and from various locations throughout Manhattan.', \" AT that time it was basically a gentlemen's club of members who were interested in all types of model building.\", ' In 1926 the Society was formalized and incorporated under the laws of the State of New York.', \" This was done so that the Society could obtain a permit to use a lake in New York City's Central Park for model motor boat races.\", ' It was also at this time that the Society began construction of its first Model Railroad \" The Union Connecting\".', ' Over the next twenty years, the Society moved from its original location to two other locations.', ' Each move doubling the size of the previous location and of course doubling the size of the model train layout.', ' During WW2 many Society members were called to service in the Armed Forces.', ' Regrettably, the largest of the layouts had to be dismantled.', ' The location of the layout in the basement of the Astor Building was requested for the war effort.', ' The dismantling was done with care, with salvaged usable materials going into scrap drives for the War effort.', ' As members returned after the War a new location was searched for.', ' This led to an invitation from the Lackawanna Railroad to move into their Passenger Terminal in Hoboken,NJ.', ' They had the space for what would become the largest model railroad in the world at that time.', ' The space?', ' Only the ornate waiting room for the recently discontinued ferry boats to 23rd Street in New York City.', ' Here the layout was built.', ' It was based on the Lackawanna Railroad from Hoboken to Scranton, Pa.', ' It was magnificent; from the scale model of the Hoboken Terminal to the soaring Delaware Water Gap.', ' During the early-1950s the organization moved to its current location in Carlstadt, New Jersey.']], ['Clinton, Minnesota', ['Clinton is a city in Big Stone County, Minnesota, United States.', ' The city was named for New York Governor DeWitt Clinton.', ' The population was 449 at the 2010 census.']], [\"Hamish and Andy's Gap Year\", [\"Hamish & Andy's Gap Year is a Logie Award winning comedy series following Hamish Blake and Andy Lee, a pair of Australian comedians, on their trips to various international locations.\", ' The first season saw the boys visiting America for ten episodes and broadcast their show weekly from New York City.', ' In its second season in 2012, the show was titled \"Hamish & Andy\\'s Euro Gap Year\" and seven episodes were broadcast from The Lord Stanley, a disused pub in East London, England.', ' The third season known as \"Hamish and Andy\\'s Gap Year Asia\" in 2013 was broadcast from a bar in Bangkok, Thailand, called \\'The Raintree\\'.']], ['I Love NY (2015 film)', ['I Love NY, also known as I Love New Year, is an Indian romantic comedy film directed by Radhika Rao and Vinay Sapru starring Sunny Deol and Kangana Ranaut in lead roles.', ' The film is produced by Bhushan Kumar and Krishan Kumar under the banner of Super Cassettes Industries Ltd.', ' The film was extensively shot in Mumbai, New York City and Bangkok.', ' The main plot was taken from the Russian romantic comedy \"The Irony of Fate\" (1976).', ' After numerous delays, the film released on 10 July 2015.']], ['Big Stone Gap (film)', ['Big Stone Gap is a 2014 American drama romantic comedy film written and directed by Adriana Trigiani and produced by Donna Gigliotti for Altar Identity Studios, a subsidiary of Media Society.', \" Based on Trigiani's 2000 best-selling novel of the same name, the story is set in the actual Virginia town of Big Stone Gap circa 1970s.\", ' The film had its world premiere at the Virginia Film Festival on November 6, 2014.']]]\n",
      "Generated Answer:  Greenwich Village.\n",
      "Expected Answer:  Greenwich Village, New York City\n",
      "F1: 0.5714285714285715, Precision: 1.0, Recall: 0.4, Exact Match: False\n",
      "----------------------------------------------------------------------------------------------------\n",
      "Scores:  {'exact_match': 0.2, 'f1': 0.4642857142857143}\n"
     ]
    }
   ],
   "source": [
    "query_template = \"{question} Give a short factoid answer (as few words as possible). Use the following context to answer the question: {context}\"\n",
    "\n",
    "evaluate_hotpotqa(model_id=model_id,  retrieval_tool=retrieval_tool, query_template=query_template, show_result=show_result, num_examples=5)"
   ]
  },
  {
   "cell_type": "markdown",
   "metadata": {},
   "source": [
    "### (+RAG) MockRetrieval -> WebSearch\n",
    "\n",
    "- Now, the mock retrieval tool will return noisy distractor context. \n",
    "- Let's try an approach where we use websearch to get the correct context. "
   ]
  },
  {
   "cell_type": "code",
   "execution_count": 10,
   "metadata": {},
   "outputs": [
    {
     "name": "stdout",
     "output_type": "stream",
     "text": [
      "Question:  Were Scott Derrickson and Ed Wood of the same nationality? Give a short factoid answer (as few words as possible).\n",
      "Generated Answer:  Yes, Scott Derrickson and Ed Wood were of the same nationality. They were both American filmmakers.\n",
      "Expected Answer:  yes\n",
      "F1: 0.125, Precision: 0.06666666666666667, Recall: 1.0, Exact Match: False\n",
      "----------------------------------------------------------------------------------------------------\n",
      "Question:  What government position was held by the woman who portrayed Corliss Archer in the film Kiss and Tell? Give a short factoid answer (as few words as possible).\n",
      "Generated Answer:  The woman who portrayed Corliss Archer in the film \"Kiss and Tell\" held the government position of Chief of Protocol.\n",
      "Expected Answer:  Chief of Protocol\n",
      "F1: 0.3, Precision: 0.17647058823529413, Recall: 1.0, Exact Match: False\n",
      "----------------------------------------------------------------------------------------------------\n",
      "Question:  What science fantasy young adult series, told in first person, has a set of companion books narrating the stories of enslaved worlds and alien species? Give a short factoid answer (as few words as possible).\n",
      "Generated Answer:  Unfortunately, I was unable to find the answer to your question with the available tools.\n",
      "Expected Answer:  Animorphs\n",
      "F1: 0, Precision: 0, Recall: 0, Exact Match: False\n",
      "----------------------------------------------------------------------------------------------------\n",
      "Question:  Are the Laleli Mosque and Esma Sultan Mansion located in the same neighborhood? Give a short factoid answer (as few words as possible).\n",
      "Generated Answer:  The Laleli Mosque and Esma Sultan Mansion are not located in the same neighborhood. The Laleli Mosque is located in the Laleli neighborhood, while the Esma Sultan Mansion is located in the Ortaköy neighborhood.\n",
      "Expected Answer:  no\n",
      "F1: 0, Precision: 0, Recall: 0, Exact Match: False\n",
      "----------------------------------------------------------------------------------------------------\n",
      "Question:  The director of the romantic comedy \"Big Stone Gap\" is based in what New York city? Give a short factoid answer (as few words as possible).\n",
      "Generated Answer:  The director of the romantic comedy \"Big Stone Gap\" is based in Queens, New York City.\n",
      "Expected Answer:  Greenwich Village, New York City\n",
      "F1: 0.3157894736842105, Precision: 0.21428571428571427, Recall: 0.6, Exact Match: False\n",
      "----------------------------------------------------------------------------------------------------\n",
      "Scores:  {'exact_match': 0.0, 'f1': 0.1481578947368421}\n"
     ]
    }
   ],
   "source": [
    "from llama_stack_client.types.agent_create_params import AgentConfig\n",
    "query_template = \"{question} Give a short factoid answer (as few words as possible).\"\n",
    "\n",
    "agent_config = AgentConfig(\n",
    "    model=model_id,\n",
    "    instructions=\"You are a helpful assistant that can answer questions by searching the web. Please use the websearch tool to answer the question.\",\n",
    "    sampling_params={\n",
    "        \"strategy\": {\"type\": \"top_p\", \"temperature\": 1.0, \"top_p\": 0.9},\n",
    "    },\n",
    "    toolgroups=[\"builtin::websearch\"],\n",
    "    tool_choice=\"auto\",\n",
    "    tool_prompt_format=\"json\",\n",
    "    input_shields=[],\n",
    "    output_shields=[],\n",
    "    enable_session_persistence=False,\n",
    ")\n",
    "\n",
    "agent = Agent(\n",
    "    client=client,\n",
    "    agent_config=agent_config,\n",
    ")\n",
    "\n",
    "evaluate_hotpotqa(agent=agent, query_template=query_template, show_result=show_result, num_examples=5)"
   ]
  },
  {
   "cell_type": "markdown",
   "metadata": {},
   "source": [
    "### (+RAG) Reranking on retrieved context\n",
    "\n",
    "- Try adding a rerankng on top of retrieved context"
   ]
  },
  {
   "cell_type": "markdown",
   "metadata": {},
   "source": []
  },
  {
   "cell_type": "code",
   "execution_count": null,
   "metadata": {},
   "outputs": [],
   "source": []
  }
 ],
 "metadata": {
  "kernelspec": {
   "display_name": "master",
   "language": "python",
   "name": "python3"
  },
  "language_info": {
   "codemirror_mode": {
    "name": "ipython",
    "version": 3
   },
   "file_extension": ".py",
   "mimetype": "text/x-python",
   "name": "python",
   "nbconvert_exporter": "python",
   "pygments_lexer": "ipython3",
   "version": "3.10.16"
  }
 },
 "nbformat": 4,
 "nbformat_minor": 2
}
